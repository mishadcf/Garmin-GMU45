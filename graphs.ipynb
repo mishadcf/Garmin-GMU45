{
 "cells": [
  {
   "cell_type": "markdown",
   "metadata": {},
   "source": [
    "## Weekly mileage recorded versus 10% increase from 25 miles at 14 Oct 2024\n"
   ]
  },
  {
   "cell_type": "code",
   "execution_count": 5,
   "metadata": {},
   "outputs": [
    {
     "name": "stderr",
     "output_type": "stream",
     "text": [
      "/var/folders/4n/18wn5fm9177dpn28hhj4f8w00000gn/T/ipykernel_91563/3304019837.py:26: SettingWithCopyWarning:\n",
      "\n",
      "\n",
      "A value is trying to be set on a copy of a slice from a DataFrame.\n",
      "Try using .loc[row_indexer,col_indexer] = value instead\n",
      "\n",
      "See the caveats in the documentation: https://pandas.pydata.org/pandas-docs/stable/user_guide/indexing.html#returning-a-view-versus-a-copy\n",
      "\n"
     ]
    }
   ],
   "source": [
    "# Import necessary libraries\n",
    "import pandas as pd\n",
    "import plotly.graph_objects as go\n",
    "import numpy as np\n",
    "import plotly.io as pio\n",
    "pio.renderers.default = 'iframe'  # This ensures the plot displays in Jupyter\n",
    "\n",
    "# Step 1: Read in the data\n",
    "file_path = 'Activities.csv'  # Assuming the file is in the current working directory\n",
    "data = pd.read_csv(file_path)\n",
    "\n",
    "# Step 2: Process the data\n",
    "# Convert 'Date' to datetime and clean up data\n",
    "data['Date'] = pd.to_datetime(data['Date'], errors='coerce')\n",
    "data.replace('--', pd.NA, inplace=True)\n",
    "\n",
    "# Convert necessary columns to numeric\n",
    "data['Distance'] = pd.to_numeric(data['Distance'], errors='coerce')\n",
    "data['Total Time'] = pd.to_timedelta(data['Total Time'], errors='coerce')\n",
    "data['Avg HR'] = pd.to_numeric(data['Avg HR'], errors='coerce')\n",
    "\n",
    "# Filter for running activities only\n",
    "running_data = data[data['Activity Type'].isin(['Running', 'Trail Running'])]\n",
    "\n",
    "# Step 3: Create a new column for the week and group by week\n",
    "running_data['Week'] = running_data['Date'].dt.isocalendar().week\n",
    "recent_running_data = running_data[running_data['Date'] >= '2024-08-01']\n",
    "\n",
    "# Aggregate weekly mileage\n",
    "weekly_mileage = recent_running_data.groupby('Week')['Distance'].sum().reset_index()\n",
    "\n",
    "# Step 4: Define the variables for the interactive visualisation\n",
    "# Start projection from 25 miles after the injury prevention period\n",
    "new_starting_mileage = 25\n",
    "weeks_to_project = np.arange(weekly_mileage['Week'].max() + 1, 10 + 53)  # Project until week 10 of 2025\n",
    "new_projected_mileage = [new_starting_mileage]\n",
    "for i in range(1, len(weeks_to_project)):\n",
    "    new_projected_mileage.append(new_projected_mileage[-1] * 1.10)\n",
    "\n",
    "# Create a date range starting from the first week of August 2024 for plotting\n",
    "start_date = pd.to_datetime('2024-08-01')\n",
    "week_dates = pd.date_range(start=start_date, periods=len(weekly_mileage) + len(weeks_to_project), freq='W-MON')\n",
    "\n",
    "# Manually define the drop period for injury prevention\n",
    "drop_start = week_dates[len(weekly_mileage) - 2]\n",
    "drop_end = week_dates[len(weekly_mileage)]\n",
    "\n",
    "# Define the Winter Green Man Ultra race date\n",
    "race_date = pd.to_datetime('2025-03-01')\n",
    "\n",
    "# Step 5: Create the Plotly interactive visualisation\n",
    "fig = go.Figure()\n",
    "\n",
    "# Plot actual mileage\n",
    "fig.add_trace(go.Scatter(x=week_dates[:len(weekly_mileage)], \n",
    "                         y=weekly_mileage['Distance'], \n",
    "                         mode='lines+markers', \n",
    "                         name='Actual Mileage', \n",
    "                         line=dict(color='green')))\n",
    "\n",
    "# Plot projected mileage\n",
    "fig.add_trace(go.Scatter(x=week_dates[len(weekly_mileage):], \n",
    "                         y=new_projected_mileage, \n",
    "                         mode='lines+markers', \n",
    "                         name='New Projected 10% Increase', \n",
    "                         line=dict(dash='dash', color='red')))\n",
    "\n",
    "# Add injury prevention period\n",
    "fig.add_shape(type=\"rect\",\n",
    "              x0=drop_start, x1=drop_end, y0=0, y1=max(weekly_mileage['Distance']),\n",
    "              fillcolor=\"lightblue\", opacity=0.3, line_width=0, name='Injury Prevention Period')\n",
    "\n",
    "# Add annotation for injury prevention\n",
    "fig.add_annotation(x=drop_start, y=5, text=\"Injury Prevention Period\", showarrow=False, font=dict(color=\"black\"))\n",
    "\n",
    "# Add Winter Green Man Ultra race date\n",
    "fig.add_vline(x=race_date, line=dict(color='purple', dash='dash'), name='Winter Green Man Ultra')\n",
    "fig.add_annotation(x=race_date, y=max(new_projected_mileage)*0.8, \n",
    "                   text=\"Winter Green Man Ultra\", showarrow=False, textangle=90, font=dict(color=\"purple\"))\n",
    "\n",
    "# Update layout\n",
    "fig.update_layout(title='Weekly Running Mileage with New 10% Increase Projection (Miles)',\n",
    "                  xaxis_title='Week Starting Date',\n",
    "                  yaxis_title='Total Distance (miles)',\n",
    "                  xaxis_tickformat='%Y-%m-%d',\n",
    "                  xaxis_tickangle=-45,\n",
    "                  hovermode=\"x unified\")\n",
    "\n",
    "# Show the interactive plot\n",
    "# fig.show()\n",
    "fig.write_html(\"weekly_mileage.html\")\n",
    "\n"
   ]
  },
  {
   "cell_type": "code",
   "execution_count": null,
   "metadata": {},
   "outputs": [],
   "source": []
  },
  {
   "cell_type": "code",
   "execution_count": null,
   "metadata": {},
   "outputs": [],
   "source": []
  },
  {
   "cell_type": "code",
   "execution_count": null,
   "metadata": {},
   "outputs": [],
   "source": []
  },
  {
   "cell_type": "code",
   "execution_count": null,
   "metadata": {},
   "outputs": [],
   "source": []
  },
  {
   "cell_type": "code",
   "execution_count": null,
   "metadata": {},
   "outputs": [],
   "source": []
  },
  {
   "cell_type": "code",
   "execution_count": null,
   "metadata": {},
   "outputs": [],
   "source": []
  },
  {
   "cell_type": "code",
   "execution_count": null,
   "metadata": {},
   "outputs": [],
   "source": []
  },
  {
   "cell_type": "code",
   "execution_count": null,
   "metadata": {},
   "outputs": [],
   "source": []
  },
  {
   "cell_type": "code",
   "execution_count": null,
   "metadata": {},
   "outputs": [],
   "source": []
  },
  {
   "cell_type": "code",
   "execution_count": null,
   "metadata": {},
   "outputs": [],
   "source": []
  },
  {
   "cell_type": "code",
   "execution_count": null,
   "metadata": {},
   "outputs": [],
   "source": []
  },
  {
   "cell_type": "code",
   "execution_count": null,
   "metadata": {},
   "outputs": [],
   "source": []
  },
  {
   "cell_type": "code",
   "execution_count": null,
   "metadata": {},
   "outputs": [],
   "source": []
  },
  {
   "cell_type": "code",
   "execution_count": null,
   "metadata": {},
   "outputs": [],
   "source": []
  },
  {
   "cell_type": "code",
   "execution_count": null,
   "metadata": {},
   "outputs": [],
   "source": []
  },
  {
   "cell_type": "code",
   "execution_count": null,
   "metadata": {},
   "outputs": [],
   "source": []
  }
 ],
 "metadata": {
  "kernelspec": {
   "display_name": "ultra",
   "language": "python",
   "name": "python3"
  },
  "language_info": {
   "codemirror_mode": {
    "name": "ipython",
    "version": 3
   },
   "file_extension": ".py",
   "mimetype": "text/x-python",
   "name": "python",
   "nbconvert_exporter": "python",
   "pygments_lexer": "ipython3",
   "version": "3.12.6"
  }
 },
 "nbformat": 4,
 "nbformat_minor": 2
}
